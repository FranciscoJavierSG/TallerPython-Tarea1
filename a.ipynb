{
 "cells": [
  {
   "cell_type": "code",
   "execution_count": null,
   "metadata": {},
   "outputs": [],
   "source": [
    "#Abrir el libro\n",
    "libro = open(\"Libros_txt_utf-8/En_El_Mar_Remoto.txt\",\"rt\",encoding=\"UTF-8\")\n",
    "print(\"Se abrió el archivo.\")\n"
   ]
  },
  {
   "cell_type": "code",
   "execution_count": null,
   "metadata": {},
   "outputs": [],
   "source": [
    "#Cantidad total de líneas\n",
    "variable = len(libro.readlines())+1\n",
    "print(\"Cantidad total de líneas: \",variable)"
   ]
  },
  {
   "cell_type": "code",
   "execution_count": null,
   "metadata": {},
   "outputs": [],
   "source": [
    "#Imprimo la posición final\n",
    "posicion = libro.tell()\n",
    "print(\"La posicion del puntero es: \",posicion)"
   ]
  },
  {
   "cell_type": "code",
   "execution_count": null,
   "metadata": {},
   "outputs": [],
   "source": [
    "#Se retorna el puntero al inicio del archivo\n",
    "libro.seek(0)\n",
    "print(\"El puntero volvió el inicio. Ya puede leer el texto nuevamente.\")"
   ]
  },
  {
   "cell_type": "code",
   "execution_count": null,
   "metadata": {},
   "outputs": [],
   "source": [
    "#Cantidad total de palabras\n",
    "data = libro.read()\n",
    "palabras = data.split()\n",
    "print(\"Cantidad total de palabras: \",len(palabras))"
   ]
  },
  {
   "cell_type": "code",
   "execution_count": null,
   "metadata": {},
   "outputs": [],
   "source": [
    "#Cantidad de caracteres con espacio\n",
    "print(\"Cantidad de caracteres con espacio: \", len(data))"
   ]
  },
  {
   "cell_type": "code",
   "execution_count": null,
   "metadata": {},
   "outputs": [],
   "source": [
    "#Se retorna el puntero al inicio del archivo\n",
    "libro.seek(0)\n",
    "print(\"El puntero volvió el inicio. Ya puede leer el texto nuevamente. (Por segunda vez xdd)\")"
   ]
  },
  {
   "cell_type": "code",
   "execution_count": null,
   "metadata": {},
   "outputs": [],
   "source": [
    "#Cantidad de caracteres sin espacio\n",
    "x = libro.read()\n",
    "wea = len(x) - x.count(' ')\n",
    "print(wea)"
   ]
  },
  {
   "cell_type": "code",
   "execution_count": null,
   "metadata": {},
   "outputs": [],
   "source": [
    "#Repeticiones de todas las palabras \n",
    "f = open ('Libros_txt_utf-8/El_Caos_Reptante.txt','r',encoding=\"utf-8\")\n",
    "data=f.read()\n",
    "palabras = data.split()\n",
    "ao='El'\n",
    "diccionario = dict()\n",
    "\n",
    "for p in palabras:\n",
    "    diccionario[p] = diccionario.get(p, 0) + 1\n",
    "\n",
    "print(diccionario)"
   ]
  },
  {
   "cell_type": "code",
   "execution_count": null,
   "metadata": {},
   "outputs": [],
   "source": [
    "#Palabras no repetidas \n",
    "f = open ('Libros_txt_utf-8/El_Caos_Reptante.txt','r',encoding=\"utf-8\")\n",
    "data=f.read()\n",
    "f1= data.replace(\":\",\"\")\n",
    "f1= f1.replace(\",\",\"\")\n",
    "\n",
    "\n",
    "palabras = f1.split()\n",
    "diccionario = dict()\n",
    "\n",
    "for p in palabras:\n",
    "    diccionario[p] = diccionario.get(p, 0) + 1\n",
    "\n",
    "for key, value in diccionario.items():\n",
    "    if 1== value:\n",
    "        print (key)"
   ]
  },
  {
   "cell_type": "code",
   "execution_count": null,
   "metadata": {},
   "outputs": [],
   "source": [
    "#Esqueleto menu\n",
    "def numero():\n",
    " \n",
    "    num=0\n",
    "    ingreso=False\n",
    "  \n",
    "    while(not ingreso):\n",
    "        try:\n",
    "            num = int(input(\"Elija una opcion: \"))\n",
    "            ingreso=True\n",
    "        except ValueError:\n",
    "            print('Error, introduce una opcion valida')\n",
    "     \n",
    "    return num\n",
    " \n",
    "salir = False\n",
    "opcion = 0\n",
    " \n",
    "while not salir:\n",
    " \n",
    "    print (\"1. Opcion 1\")\n",
    "    print (\"2. Opcion 2\")\n",
    "    print (\"3. Opcion 3\")\n",
    "    print (\"4. Salir\")\n",
    "     \n",
    "    print (\"Elige una opcion\")\n",
    " \n",
    "    opcion = numero()\n",
    " \n",
    "    if opcion == 1:\n",
    "\n",
    "        f = open ('Libros_txt_utf-8/El_Caos_Reptante.txt','r',encoding=\"utf-8\")\n",
    "        data=f.read()\n",
    "        palabras = data.split()\n",
    "\n",
    "        diccionario = dict()\n",
    "\n",
    "        for p in palabras:\n",
    "            diccionario[p] = diccionario.get(p, 0) + 1\n",
    "\n",
    "        print(diccionario)\n",
    "\n",
    "    elif opcion == 2:\n",
    "        print (\"Opcion 2\")\n",
    "    elif opcion == 3:\n",
    "        print(\"Opcion 3\")\n",
    "    elif opcion == 4:\n",
    "        salir = True\n",
    "    else:\n",
    "        print (\"Introduce una opcion\")\n",
    " \n",
    "print (\"Fin\")"
   ]
  },
  {
   "cell_type": "code",
   "execution_count": 12,
   "metadata": {},
   "outputs": [
    {
     "name": "stdout",
     "output_type": "stream",
     "text": [
      "El puntero volvió el inicio. Ya puede leer el texto nuevamente. (Por tercera vez xdd)\n"
     ]
    }
   ],
   "source": [
    "#Se retorna el puntero al inicio del archivo\n",
    "libro.seek(0)\n",
    "print(\"El puntero volvió el inicio. Ya puede leer el texto nuevamente. (Por tercera vez xdd)\")"
   ]
  },
  {
   "cell_type": "code",
   "execution_count": 1,
   "metadata": {},
   "outputs": [
    {
     "name": "stdout",
     "output_type": "stream",
     "text": [
      "Ingrese la palabra a reemplazar\n",
      "Ingrese la palabra que reemplazará a 'pan'\n",
      "Listoco\n"
     ]
    }
   ],
   "source": [
    "#Punto 3: Reemplazar una palabra en un texto\n",
    "f = open ('ejemplo.txt','r',encoding=\"utf-8\")\n",
    "data=f.read()\n",
    "\n",
    "print(\"Ingrese la palabra a reemplazar\")\n",
    "palabra_buscar = input()\n",
    "\n",
    "print(\"Ingrese la palabra que reemplazará a '\"+palabra_buscar+\"'\")\n",
    "palabra_reemplazar = input()\n",
    "\n",
    "data= data.replace(palabra_buscar,palabra_reemplazar)\n",
    "\n",
    "f = open('ejemplo.txt','w',encoding=\"utf-8\")\n",
    "f.write(data)\n",
    "\n",
    "print(\"Listoco\")"
   ]
  }
 ],
 "metadata": {
  "interpreter": {
   "hash": "1baa965d5efe3ac65b79dfc60c0d706280b1da80fedb7760faf2759126c4f253"
  },
  "kernelspec": {
   "display_name": "Python 3.8.0 64-bit",
   "language": "python",
   "name": "python3"
  },
  "language_info": {
   "codemirror_mode": {
    "name": "ipython",
    "version": 3
   },
   "file_extension": ".py",
   "mimetype": "text/x-python",
   "name": "python",
   "nbconvert_exporter": "python",
   "pygments_lexer": "ipython3",
   "version": "3.8.0"
  },
  "orig_nbformat": 4
 },
 "nbformat": 4,
 "nbformat_minor": 2
}
