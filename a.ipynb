{
 "cells": [
  {
   "cell_type": "code",
   "execution_count": null,
   "metadata": {},
   "outputs": [],
   "source": [
    "#Abrir el libro\n",
    "libro = open(\"En_El_Mar_Remoto.txt\",\"rt\",encoding=\"UTF-8\")\n",
    "print(\"Se abrió el archivo.\")\n"
   ]
  },
  {
   "cell_type": "code",
   "execution_count": 76,
   "metadata": {},
   "outputs": [
    {
     "name": "stdout",
     "output_type": "stream",
     "text": [
      "Cantidad total de líneas:  21\n"
     ]
    }
   ],
   "source": [
    "#Cantidad total de líneas\n",
    "variable = len(libro.readlines())+1\n",
    "print(\"Cantidad total de líneas: \",variable)"
   ]
  },
  {
   "cell_type": "code",
   "execution_count": 77,
   "metadata": {},
   "outputs": [
    {
     "name": "stdout",
     "output_type": "stream",
     "text": [
      "La posicion del puntero es:  4820\n"
     ]
    }
   ],
   "source": [
    "#Imprimo la posición final\n",
    "posicion = libro.tell()\n",
    "print(\"La posicion del puntero es: \",posicion)"
   ]
  },
  {
   "cell_type": "code",
   "execution_count": 78,
   "metadata": {},
   "outputs": [
    {
     "name": "stdout",
     "output_type": "stream",
     "text": [
      "El puntero volvió el inicio. Ya puede leer el texto nuevamente.\n"
     ]
    }
   ],
   "source": [
    "#Se retorna el puntero al inicio del archivo\n",
    "libro.seek(0)\n",
    "print(\"El puntero volvió el inicio. Ya puede leer el texto nuevamente.\")"
   ]
  },
  {
   "cell_type": "code",
   "execution_count": 79,
   "metadata": {},
   "outputs": [
    {
     "name": "stdout",
     "output_type": "stream",
     "text": [
      "Cantidad total de palabras:  830\n"
     ]
    }
   ],
   "source": [
    "#Cantidad total de palabras\n",
    "data = libro.read()\n",
    "palabras = data.split()\n",
    "print(\"Cantidad total de palabras: \",len(palabras))"
   ]
  },
  {
   "cell_type": "code",
   "execution_count": 80,
   "metadata": {},
   "outputs": [
    {
     "name": "stdout",
     "output_type": "stream",
     "text": [
      "Cantidad de caracteres con espacio:  4688\n"
     ]
    }
   ],
   "source": [
    "#Cantidad de caracteres con espacio\n",
    "print(\"Cantidad de caracteres con espacio: \", len(data))"
   ]
  },
  {
   "cell_type": "code",
   "execution_count": null,
   "metadata": {},
   "outputs": [],
   "source": [
    "#Se retorna el puntero al inicio del archivo\n",
    "libro.seek(0)\n",
    "print(\"El puntero volvió el inicio. Ya puede leer el texto nuevamente. (Por segunda vez xdd)\")"
   ]
  },
  {
   "cell_type": "code",
   "execution_count": null,
   "metadata": {},
   "outputs": [],
   "source": [
    "#Cantidad de caracteres sin espacio\n",
    "x = libro.read()\n",
    "wea = len(x) - x.count(' ')\n",
    "print(wea)"
   ]
  },
  {
   "cell_type": "code",
   "execution_count": null,
   "metadata": {},
   "outputs": [],
   "source": [
    "f = open ('Libros_txt_utf-8/El_Caos_Reptante.txt','r',encoding=\"utf-8\")\n",
    "data=f.read()\n",
    "palabras = data.split()\n",
    "ao='El'\n",
    "diccionario = dict()\n",
    "\n",
    "for p in palabras:\n",
    "    diccionario[p] = diccionario.get(p, 0) + 1\n",
    "\n",
    "print(diccionario)"
   ]
  }
 ],
 "metadata": {
  "interpreter": {
   "hash": "1baa965d5efe3ac65b79dfc60c0d706280b1da80fedb7760faf2759126c4f253"
  },
  "kernelspec": {
   "display_name": "Python 3.8.0 64-bit",
   "language": "python",
   "name": "python3"
  },
  "language_info": {
   "codemirror_mode": {
    "name": "ipython",
    "version": 3
   },
   "file_extension": ".py",
   "mimetype": "text/x-python",
   "name": "python",
   "nbconvert_exporter": "python",
   "pygments_lexer": "ipython3",
   "version": "3.8.0"
  },
  "orig_nbformat": 4
 },
 "nbformat": 4,
 "nbformat_minor": 2
}
