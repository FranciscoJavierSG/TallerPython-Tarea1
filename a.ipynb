{
 "cells": [
  {
   "cell_type": "code",
   "execution_count": 4,
   "metadata": {},
   "outputs": [
    {
     "ename": "FileNotFoundError",
     "evalue": "[Errno 2] No such file or directory: 'En_El_Mar_Remoto.txt'",
     "output_type": "error",
     "traceback": [
      "\u001b[1;31m---------------------------------------------------------------------------\u001b[0m",
      "\u001b[1;31mFileNotFoundError\u001b[0m                         Traceback (most recent call last)",
      "\u001b[1;32mc:\\Users\\pc0113\\Documents\\TallerPython-Tarea1-main\\TallerPython-Tarea1-main\\a.ipynb Cell 1'\u001b[0m in \u001b[0;36m<cell line: 2>\u001b[1;34m()\u001b[0m\n\u001b[0;32m      <a href='vscode-notebook-cell:/c%3A/Users/pc0113/Documents/TallerPython-Tarea1-main/TallerPython-Tarea1-main/a.ipynb#ch0000000?line=0'>1</a>\u001b[0m \u001b[39m#Abrir el libro\u001b[39;00m\n\u001b[1;32m----> <a href='vscode-notebook-cell:/c%3A/Users/pc0113/Documents/TallerPython-Tarea1-main/TallerPython-Tarea1-main/a.ipynb#ch0000000?line=1'>2</a>\u001b[0m libro \u001b[39m=\u001b[39m \u001b[39mopen\u001b[39;49m(\u001b[39m\"\u001b[39;49m\u001b[39mEn_El_Mar_Remoto.txt\u001b[39;49m\u001b[39m\"\u001b[39;49m,\u001b[39m\"\u001b[39;49m\u001b[39mrt\u001b[39;49m\u001b[39m\"\u001b[39;49m,encoding\u001b[39m=\u001b[39;49m\u001b[39m\"\u001b[39;49m\u001b[39mUTF-8\u001b[39;49m\u001b[39m\"\u001b[39;49m)\n\u001b[0;32m      <a href='vscode-notebook-cell:/c%3A/Users/pc0113/Documents/TallerPython-Tarea1-main/TallerPython-Tarea1-main/a.ipynb#ch0000000?line=2'>3</a>\u001b[0m \u001b[39mprint\u001b[39m(\u001b[39m\"\u001b[39m\u001b[39mSe abrió el archivo.\u001b[39m\u001b[39m\"\u001b[39m)\n",
      "\u001b[1;31mFileNotFoundError\u001b[0m: [Errno 2] No such file or directory: 'En_El_Mar_Remoto.txt'"
     ]
    }
   ],
   "source": [
    "#Abrir el libro\n",
    "libro = open(\"En_El_Mar_Remoto.txt\",\"rt\",encoding=\"UTF-8\")\n",
    "print(\"Se abrió el archivo.\")\n"
   ]
  },
  {
   "cell_type": "code",
   "execution_count": 76,
   "metadata": {},
   "outputs": [
    {
     "name": "stdout",
     "output_type": "stream",
     "text": [
      "Cantidad total de líneas:  21\n"
     ]
    }
   ],
   "source": [
    "#Cantidad total de líneas\n",
    "variable = len(libro.readlines())+1\n",
    "print(\"Cantidad total de líneas: \",variable)"
   ]
  },
  {
   "cell_type": "code",
   "execution_count": 77,
   "metadata": {},
   "outputs": [
    {
     "name": "stdout",
     "output_type": "stream",
     "text": [
      "La posicion del puntero es:  4820\n"
     ]
    }
   ],
   "source": [
    "#Imprimo la posición final\n",
    "posicion = libro.tell()\n",
    "print(\"La posicion del puntero es: \",posicion)"
   ]
  },
  {
   "cell_type": "code",
   "execution_count": 78,
   "metadata": {},
   "outputs": [
    {
     "name": "stdout",
     "output_type": "stream",
     "text": [
      "El puntero volvió el inicio. Ya puede leer el texto nuevamente.\n"
     ]
    }
   ],
   "source": [
    "#Se retorna el puntero al inicio del archivo\n",
    "libro.seek(0)\n",
    "print(\"El puntero volvió el inicio. Ya puede leer el texto nuevamente.\")"
   ]
  },
  {
   "cell_type": "code",
   "execution_count": 79,
   "metadata": {},
   "outputs": [
    {
     "name": "stdout",
     "output_type": "stream",
     "text": [
      "Cantidad total de palabras:  830\n"
     ]
    }
   ],
   "source": [
    "#Cantidad total de palabras\n",
    "data = libro.read()\n",
    "palabras = data.split()\n",
    "print(\"Cantidad total de palabras: \",len(palabras))"
   ]
  },
  {
   "cell_type": "code",
   "execution_count": 80,
   "metadata": {},
   "outputs": [
    {
     "name": "stdout",
     "output_type": "stream",
     "text": [
      "Cantidad de caracteres con espacio:  4688\n"
     ]
    }
   ],
   "source": [
    "#Cantidad de caracteres con espacio\n",
    "print(\"Cantidad de caracteres con espacio: \", len(data))"
   ]
  },
  {
   "cell_type": "code",
   "execution_count": 3,
   "metadata": {},
   "outputs": [
    {
     "ename": "NameError",
     "evalue": "name 'libro' is not defined",
     "output_type": "error",
     "traceback": [
      "\u001b[1;31m---------------------------------------------------------------------------\u001b[0m",
      "\u001b[1;31mNameError\u001b[0m                                 Traceback (most recent call last)",
      "\u001b[1;32mc:\\Users\\pc0113\\Documents\\TallerPython-Tarea1-main\\TallerPython-Tarea1-main\\a.ipynb Cell 7'\u001b[0m in \u001b[0;36m<cell line: 2>\u001b[1;34m()\u001b[0m\n\u001b[0;32m      <a href='vscode-notebook-cell:/c%3A/Users/pc0113/Documents/TallerPython-Tarea1-main/TallerPython-Tarea1-main/a.ipynb#ch0000006?line=0'>1</a>\u001b[0m \u001b[39m#Se retorna el puntero al inicio del archivo\u001b[39;00m\n\u001b[1;32m----> <a href='vscode-notebook-cell:/c%3A/Users/pc0113/Documents/TallerPython-Tarea1-main/TallerPython-Tarea1-main/a.ipynb#ch0000006?line=1'>2</a>\u001b[0m libro\u001b[39m.\u001b[39mseek(\u001b[39m0\u001b[39m)\n\u001b[0;32m      <a href='vscode-notebook-cell:/c%3A/Users/pc0113/Documents/TallerPython-Tarea1-main/TallerPython-Tarea1-main/a.ipynb#ch0000006?line=2'>3</a>\u001b[0m \u001b[39mprint\u001b[39m(\u001b[39m\"\u001b[39m\u001b[39mEl puntero volvió el inicio. Ya puede leer el texto nuevamente. (Por segunda vez xdd)\u001b[39m\u001b[39m\"\u001b[39m)\n",
      "\u001b[1;31mNameError\u001b[0m: name 'libro' is not defined"
     ]
    }
   ],
   "source": [
    "#Se retorna el puntero al inicio del archivo\n",
    "libro.seek(0)\n",
    "print(\"El puntero volvió el inicio. Ya puede leer el texto nuevamente. (Por segunda vez xdd)\")"
   ]
  },
  {
   "cell_type": "code",
   "execution_count": 2,
   "metadata": {},
   "outputs": [
    {
     "ename": "NameError",
     "evalue": "name 'libro' is not defined",
     "output_type": "error",
     "traceback": [
      "\u001b[1;31m---------------------------------------------------------------------------\u001b[0m",
      "\u001b[1;31mNameError\u001b[0m                                 Traceback (most recent call last)",
      "\u001b[1;32mc:\\Users\\pc0113\\Documents\\TallerPython-Tarea1-main\\TallerPython-Tarea1-main\\a.ipynb Cell 8'\u001b[0m in \u001b[0;36m<cell line: 2>\u001b[1;34m()\u001b[0m\n\u001b[0;32m      <a href='vscode-notebook-cell:/c%3A/Users/pc0113/Documents/TallerPython-Tarea1-main/TallerPython-Tarea1-main/a.ipynb#ch0000007?line=0'>1</a>\u001b[0m \u001b[39m#Cantidad de caracteres sin espacio\u001b[39;00m\n\u001b[1;32m----> <a href='vscode-notebook-cell:/c%3A/Users/pc0113/Documents/TallerPython-Tarea1-main/TallerPython-Tarea1-main/a.ipynb#ch0000007?line=1'>2</a>\u001b[0m x \u001b[39m=\u001b[39m libro\u001b[39m.\u001b[39mread()\n\u001b[0;32m      <a href='vscode-notebook-cell:/c%3A/Users/pc0113/Documents/TallerPython-Tarea1-main/TallerPython-Tarea1-main/a.ipynb#ch0000007?line=2'>3</a>\u001b[0m wea \u001b[39m=\u001b[39m \u001b[39mlen\u001b[39m(x) \u001b[39m-\u001b[39m x\u001b[39m.\u001b[39mcount(\u001b[39m'\u001b[39m\u001b[39m \u001b[39m\u001b[39m'\u001b[39m)\n\u001b[0;32m      <a href='vscode-notebook-cell:/c%3A/Users/pc0113/Documents/TallerPython-Tarea1-main/TallerPython-Tarea1-main/a.ipynb#ch0000007?line=3'>4</a>\u001b[0m \u001b[39mprint\u001b[39m(wea)\n",
      "\u001b[1;31mNameError\u001b[0m: name 'libro' is not defined"
     ]
    }
   ],
   "source": [
    "#Cantidad de caracteres sin espacio\n",
    "x = libro.read()\n",
    "wea = len(x) - x.count(' ')\n",
    "print(wea)"
   ]
  },
  {
   "cell_type": "code",
   "execution_count": 1,
   "metadata": {},
   "outputs": [
    {
     "name": "stdout",
     "output_type": "stream",
     "text": [
      "{'LIBROdot.com': 1, 'H.P.': 1, 'Lovecraft': 1, 'El': 5, 'caos': 1, 'reptante': 1, 'Cortesía': 1, 'de': 150, ':': 1, 'Verónica': 1, 'vaymelek@yahoo.com.ar': 1, 'Mucho': 1, 'es': 6, 'lo': 14, 'que': 81, 'se': 31, 'ha': 3, 'escrito': 1, 'acerca': 2, 'los': 43, 'placeres': 1, 'y': 135, 'sufrimientos': 3, 'del': 27, 'opio.': 3, 'Los': 3, 'éxtasis': 2, 'horrores': 1, 'De': 3, 'Quincey': 2, 'paradis': 1, 'artificiels': 1, 'Baudelaire': 1, 'son': 2, 'conservados': 1, 'e': 8, 'interpretados': 1, 'con': 21, 'tal': 1, 'arte': 1, 'hace': 1, 'inmortales,': 1, 'el': 86, 'mundo': 2, 'conoce': 1, 'a': 44, 'fondo': 1, 'la': 82, 'belleza,': 1, 'terror': 2, 'misterio': 1, 'esos': 1, 'oscuros': 1, 'reinos': 1, 'donde': 4, 'soñador': 1, 'transportado.': 1, 'Pero': 1, 'aunque': 7, 'mucho': 3, 'hablado,': 1, 'ningún': 1, 'hombre': 2, 'osado': 1, 'todavía': 3, 'detallar': 1, 'naturaleza': 4, 'fantasmas': 1, 'entonces': 3, 'revelan': 1, 'en': 51, 'mente,': 1, 'o': 13, 'sugerir': 1, 'dirección': 2, 'inauditos': 1, 'caminos': 1, 'por': 22, 'cuyo': 1, 'adornado': 1, 'exótico': 2, 'curso': 1, 've': 1, 'irresistiblemente': 2, 'lanzado': 1, 'adicto.': 1, 'fue': 5, 'arrastrado': 2, 'Asia,': 1, 'esa': 1, 'fecunda': 1, 'tierra': 15, 'sombras': 1, 'nebulosas': 1, 'cuya': 1, 'temible': 1, 'antigüedad': 1, 'tan': 5, 'impresionante': 1, '\"la': 1, 'inmensa': 2, 'edad': 1, 'raza': 1, 'nombre': 2, 'impone': 1, 'sobre': 14, 'sentido': 2, 'juventud': 1, 'individuo\",': 1, 'pero': 17, 'él': 2, 'mismo': 1, 'no': 23, 'osó': 1, 'ir': 1, 'más': 21, 'lejos.': 2, 'Aquellos': 1, 'han': 1, 'ido': 1, 'allá': 4, 'rara': 1, 'vez': 2, 'volvieron': 1, 'y,': 6, 'cuando': 11, 'hicieron,': 1, 'siempre': 3, 'guardando': 1, 'silencio': 1, 'sumidos': 1, 'locura.': 1, 'Yo': 1, 'consumí': 1, 'opio': 1, 'una': 43, 'ocasión...': 1, 'año': 1, 'plaga,': 1, 'doctores': 1, 'trataban': 1, 'aliviar': 1, 'podían': 1, 'curar.': 1, 'Fue': 2, 'sobredosis': 1, '-mi': 1, 'médico': 1, 'estaba': 6, 'agotado': 1, 'horror': 1, 'esfuerzos-': 1, 'verdaderamente,': 1, 'viajé': 1, 'muy': 2, 'Finalmente': 1, 'regresé': 1, 'viví,': 1, 'mis': 12, 'noches': 1, 'colmaron': 1, 'extraños': 1, 'recuerdos': 1, 'nunca': 7, 'he': 3, 'permitido': 1, 'un': 33, 'doctor': 1, 'volver': 1, 'darme': 1, 'Cuando': 2, 'me': 28, 'administraron': 1, 'droga,': 1, 'sufrimiento': 1, 'martilleo': 2, 'mi': 25, 'cabeza': 2, 'habían': 3, 'sido': 1, 'insufribles.': 1, 'No': 6, 'importaba': 1, 'fututo;': 1, 'huir,': 1, 'bien': 1, 'mediante': 1, 'curación,': 1, 'inconsciencia': 1, 'muerte,': 2, 'era': 14, 'cuanto': 4, 'importaba.': 1, 'Estaba': 1, 'medio': 2, 'delirando,': 1, 'eso': 2, 'difícil': 1, 'ubicar': 1, 'momento': 2, 'exacto': 1, 'transición,': 1, 'pienso': 1, 'efecto': 1, 'debió': 2, 'comenzar': 1, 'poco': 1, 'antes': 4, 'las': 39, 'palpitaciones': 1, 'dejaran': 1, 'ser': 7, 'dolorosas.': 1, 'Como': 2, 'dicho,': 2, 'sobredosis;': 1, 'cual,': 1, 'reacciones': 1, 'probablemente': 1, 'distaron': 1, 'normales.': 1, 'La': 6, 'sensación': 4, 'caída,': 2, 'curiosamente': 1, 'disociada': 1, 'idea': 3, 'gravedad': 1, 'dirección,': 1, 'suprema,': 1, 'había': 21, 'impresión': 1, 'secundaria': 1, 'muchedumbres': 1, 'invisibles': 1, 'número': 1, 'incalculable,': 1, 'multitudes': 1, 'infinitamente': 1, 'diversa,': 1, 'todas': 4, 'menos': 4, 'relacionadas': 1, 'conmigo.': 1, 'A': 6, 'veces,': 1, 'menguaba': 1, 'caída': 1, 'mientras': 9, 'sentía': 2, 'universo': 1, 'eras': 1, 'desplomaban': 1, 'ante': 4, 'mí.': 3, 'Mis': 1, 'cesaron': 1, 'repentinamente': 1, 'comencé': 1, 'asociar': 1, 'latido': 1, 'fuerza': 1, 'externa': 1, 'interna.': 1, 'También': 1, 'detenido': 1, 'dando': 1, 'paso': 1, 'descanso': 1, 'efímero': 1, 'inquieto,': 1, 'escuché': 2, 'mayor': 3, 'atención,': 1, 'fantaseé': 1, 'latidos': 1, 'procedieran': 1, 'mar': 8, 'inmenso': 1, 'inescrutable,': 1, 'como': 16, 'si': 3, 'sus': 5, 'siniestras': 1, 'colosales': 1, 'rompientes': 3, 'laceraran': 1, 'alguna': 3, 'playa': 1, 'desolada': 1, 'tras': 3, 'tempestad': 1, 'titánica': 1, 'magnitud.': 1, 'Entonces': 5, 'abrí': 1, 'ojos.': 1, 'Por': 2, 'instante,': 1, 'contornos': 2, 'parecieron': 1, 'confusos,': 1, 'imagen': 1, 'totalmente': 3, 'desenfocada,': 1, 'gradualmente': 1, 'asimilé': 1, 'solitaria': 1, 'presencia': 1, 'habitación': 2, 'extraña': 4, 'hermosa': 1, 'iluminada': 1, 'multitud': 1, 'ventanas.': 1, 'pude': 8, 'hacerme': 1, 'exacta': 1, 'estancia,': 1, 'porque': 2, 'sentidos': 1, 'distaban': 1, 'aún': 3, 'estar': 2, 'ajustados,': 1, 'advertí': 1, 'alfombras': 1, 'colgaduras': 1, 'multicolores,': 1, 'mesas,': 1, 'sillas,': 1, 'tumbonas': 1, 'divanes': 1, 'elaborada': 1, 'factura,': 1, 'delicados': 1, 'jarrones': 1, 'ornatos': 1, 'sugerían': 1, 'sin': 4, 'llegar': 1, 'ajenos.': 1, 'Todo': 2, 'percibí,': 1, 'ocupó': 1, 'tiempo': 2, 'mente.': 1, 'Lenta,': 1, 'inexorablemente,': 1, 'arrastrándose': 1, 'conciencia': 1, 'imponiéndose': 1, 'cualquier': 1, 'otra': 2, 'impresión,': 1, 'llegó': 1, 'temor': 2, 'vertiginoso': 1, 'desconocido,': 1, 'miedo': 2, 'tanto': 2, 'podía': 2, 'analizarlo': 1, 'parecía': 6, 'concernir': 1, 'furtiva': 1, 'amenaza': 1, 'aproximaba...': 1, 'sino': 5, 'algo': 4, 'nombre,': 1, 'ente': 1, 'inusitado': 1, 'indeciblemente': 1, 'espantoso': 1, 'aborrecible.': 1, 'Inmediatamente': 1, 'percaté': 2, 'símbolo': 1, 'directo': 1, 'excitante': 1, 'odioso': 2, 'cuyas': 1, 'incesantes': 1, 'reverberaciones': 2, 'batían': 1, 'enloquecedoramente': 1, 'contra': 5, 'exhausto': 1, 'cerebro.': 1, 'Parecía': 1, 'proceder': 1, 'punto': 3, 'fuera': 2, 'abajo': 1, 'edificio': 2, 'hallaba,': 1, 'asociado': 1, 'terroríficas': 1, 'imágenes': 1, 'mentales.': 1, 'Sentí': 1, 'algún': 2, 'horrible': 1, 'paisaje': 3, 'u': 1, 'objeto': 1, 'acechaban': 2, 'muros': 2, 'tapizados': 1, 'seda,': 1, 'sobrecogí': 1, 'mirar': 2, 'arqueadas': 1, 'ventanas': 1, 'enrejadas': 1, 'abrían': 2, 'insólitamente': 1, 'partes.': 1, 'Descubriendo': 1, 'postigos': 2, 'adosados': 1, 'esas': 1, 'ventanas,': 1, 'cerré': 2, 'todos,': 1, 'evitando': 1, 'dirigir': 1, 'ojos': 1, 'al': 11, 'exterior': 2, 'hacía.': 1, 'Entonces,': 3, 'empleando': 1, 'pedernal': 1, 'acero': 1, 'encontré': 1, 'mesillas,': 1, 'encendí': 1, 'algunas': 1, 'velas': 1, 'dispuestas': 1, 'largo': 1, 'barrocos': 1, 'candelabros.': 1, 'añadida': 1, 'seguridad': 1, 'prestaban': 1, 'cerrados': 1, 'luz': 4, 'artificial': 1, 'calmaron': 1, 'nervios,': 1, 'posible': 2, 'acallar': 2, 'monótono': 1, 'retumbar.': 1, 'Ahora': 2, 'calmado,': 1, 'sonido': 3, 'convirtió': 1, 'fascinante': 1, 'espantoso.': 1, 'Abriendo': 1, 'portezuela': 1, 'lado': 6, 'cercano': 1, 'martilleo,': 1, 'descubrí': 4, 'pequeño': 1, 'ricamente': 1, 'engalanado': 1, 'corredor': 1, 'finalizaba': 1, 'tallada': 1, 'puerta': 2, 'amplio': 1, 'mirador.': 1, 'Me': 2, 'vi': 5, 'atraído': 1, 'hacia': 9, 'éste,': 1, 'confusas': 1, 'aprehensiones': 1, 'forzaban': 1, 'igualmente': 1, 'atrás.': 1, 'Mientras': 3, 'aproximaba,': 1, 'ver': 3, 'caótico': 1, 'torbellino': 2, 'aguas': 3, 'distancia.': 1, 'Enseguida,': 1, 'alcanzarlo': 1, 'observar': 1, 'direcciones,': 1, 'portentosa': 1, 'escena': 1, 'alrededores': 2, 'golpeó': 1, 'plena': 1, 'devastadora': 1, 'fuerza.': 1, 'Contemplé': 1, 'visión': 2, 'observado,': 1, 'ninguna': 1, 'persona': 1, 'viviente': 1, 'puede': 1, 'haber': 2, 'visto': 2, 'salvo': 2, 'delirios': 1, 'fiebre': 1, 'infiernos': 1, 'construcción': 1, 'alzaba': 1, 'angosto': 2, '-o': 1, 'ahora': 4, 'tierra-': 1, 'remontando': 1, 'unos': 1, '90': 1, 'metros': 3, 'últimamente': 2, 'hirviente': 1, 'enloquecidas.': 1, 'cada': 2, 'casa': 3, 'precipicios': 1, 'roja': 1, 'recién': 2, 'excavados': 1, 'aguas,': 2, 'enfrente': 1, 'temibles': 2, 'olas': 7, 'continuaban': 1, 'batiendo': 1, 'forma': 2, 'espantosa,': 1, 'devorando': 1, 'terrible': 1, 'monotonía': 1, 'deliberación.': 1, 'kilómetro': 1, 'alzaban': 1, 'caían': 1, 'amenazadoras': 1, 'cinco': 1, 'altura': 1, 'lejano': 1, 'horizonte,': 2, 'crueles': 1, 'nubes': 1, 'negras': 2, 'grotescos': 1, 'colgaban': 1, 'buitres': 1, 'malignos.': 1, 'Las': 1, 'eran': 4, 'oscuras': 1, 'purpúreas,': 1, 'casi': 4, 'negras,': 1, 'arañaban': 1, 'flexible': 1, 'fango': 1, 'rojo': 1, 'orilla': 2, 'toscas': 1, 'manos': 5, 'voraces.': 1, 'sentir': 1, 'nociva': 1, 'entidad': 1, 'marina': 1, 'declarado': 1, 'guerra': 1, 'muerte': 2, 'toda': 4, 'firme,': 1, 'quizá': 1, 'instigada': 1, 'cielo': 2, 'enfurecido.': 1, 'Recobrándome': 1, 'fin': 2, 'estupor': 1, 'ese': 1, 'espectáculo': 1, 'antinatural': 1, 'sumido,': 1, 'actual': 1, 'peligro': 2, 'físico': 1, 'agudo.': 1, 'Aun': 1, 'durante': 1, 'observaba,': 1, 'perdido': 1, 'muchos': 1, 'lejos': 1, 'derrumbaría': 1, 'socavada': 1, 'atroz': 1, 'pozo': 1, 'embravecidas.': 1, 'tanto,': 1, 'apresuré': 1, 'opuesto': 1, 'encontrando': 1, 'puerta,': 1, 'mí': 1, 'curiosa': 1, 'llave': 1, 'colgaba': 1, 'interior.': 2, 'contemplé': 1, 'región': 1, 'alrededor': 1, 'percibí': 1, 'singular': 2, 'división': 1, 'existir': 1, 'entre': 3, 'océano': 6, 'hostil': 1, 'firmamento.': 1, 'descollante': 1, 'promontorio': 2, 'imperaban': 1, 'distintas': 1, 'condiciones.': 1, 'izquierda,': 1, 'mirando': 1, 'adentro,': 1, 'calmo': 1, 'grandes': 2, 'verdes': 1, 'corriendo': 1, 'apaciblemente': 1, 'bajo': 8, 'sol': 4, 'resplandeciente.': 1, 'Algo': 1, 'posición': 1, 'hicieron': 1, 'estremecer,': 1, 'entonces,': 1, 'puedo': 1, 'ahora,': 1, 'decir': 1, 'qué': 1, 'era.': 1, 'derecha': 2, 'también': 1, 'mar,': 1, 'azul,': 1, 'calmoso,': 1, 'sólo': 5, 'ligeramente': 2, 'ondulado,': 1, 'oscurecido': 1, 'ribera': 3, 'blanca': 1, 'enrojecida.': 1, 'volví': 2, 'atención': 1, 'tierra,': 3, 'tuve': 2, 'ocasión': 1, 'sorprenderme': 1, 'nuevamente,': 1, 'puesto': 1, 'vegetación': 1, 'nada': 1, 'hubiera': 3, 'leído.': 1, 'Aparentemente,': 1, 'tropical': 2, 'subtropical...': 1, 'conclusión': 1, 'extraída': 1, 'intenso': 1, 'calor': 1, 'aire.': 1, 'Algunas': 1, 'veces': 2, 'encontrar': 1, 'analogía': 1, 'flora': 1, 'natal,': 2, 'fantaseando': 1, 'supuesto': 1, 'plantas': 2, 'matorrales': 1, 'familiares': 1, 'pudieran': 1, 'asumir': 1, 'dichas': 1, 'formas': 2, 'radical': 1, 'cambio': 2, 'clima;': 1, 'gigantescas': 1, 'omnipresentes': 1, 'palmeras': 2, 'extranjeras.': 1, 'acababa': 2, 'abandonar': 1, 'pequeña': 1, '-apenas': 1, 'cabaña-': 1, 'su': 8, 'material': 1, 'evidentemente': 1, 'mármol,': 1, 'arquitectura': 1, 'sincrética,': 1, 'exótica': 1, 'amalgama': 1, 'orientales': 1, 'occidentales.': 1, 'En': 4, 'esquinas': 1, 'columnas': 1, 'corintias,': 1, 'tejados': 1, 'rojos': 1, 'pagoda': 1, 'china.': 1, 'daba': 1, 'nacía': 1, 'camino': 3, 'arena': 2, 'blanca,': 1, 'metro': 1, 'anchura': 1, 'bordeado': 1, 'imponentes': 1, 'palmeras,': 1, 'así': 2, 'arbustos': 1, 'flor': 1, 'desconocidos.': 1, 'Corría': 1, 'azul': 2, 'blanca.': 1, 'sentí': 1, 'impelido': 1, 'huir': 1, 'este': 3, 'camino,': 2, 'perseguido': 1, 'espíritu': 1, 'maligno': 1, 'retumbante.': 1, 'Al': 1, 'principio': 1, 'remontaba': 1, 'ribera,': 1, 'luego': 1, 'alcancé': 1, 'suave': 2, 'cresta.': 1, 'Tras': 2, 'mí,': 1, 'abandonado:': 1, 'punta': 1, 'cabaña': 2, 'agua': 1, 'negra,': 1, 'verde': 1, 'otro,': 1, 'maldición': 1, 'indescriptible': 1, 'cerniéndose': 1, 'todo.': 1, 'verlo': 1, 'menudo': 1, 'pregunto...': 1, 'esta': 3, 'última': 2, 'mirada,': 1, 'encaminé': 1, 'delante': 1, 'escruté': 1, 'panorama': 1, 'adentro': 1, 'extendía': 1, 'corría': 1, 'uno': 1, 'iba': 1, 'Delante': 1, 'izquierda': 2, 'vislumbré': 1, 'magnífico': 1, 'valle,': 2, 'abarcaba': 1, 'miles': 1, 'acres,': 1, 'sepultado': 1, 'oscilante': 1, 'manto': 1, 'hierba': 4, 'alta': 2, 'cabeza.': 1, 'Casi': 1, 'límite': 1, 'colosal': 1, 'palmera': 3, 'fascinarme': 1, 'reclamarme.': 1, 'momento,': 1, 'asombro': 1, 'huida': 1, 'península': 1, 'condenada': 2, 'habían,': 1, 'mucho,': 1, 'disipado': 1, 'temor,': 1, 'detuve': 1, 'desplomé': 1, 'fatigado': 1, 'sendero,': 1, 'hundiendo': 1, 'ociosamente': 1, 'cálida': 1, 'blancuzco-dorada,': 1, 'nuevo': 1, 'agudo': 1, 'embargó.': 1, 'Algún': 1, 'sibilante': 1, 'pareció': 1, 'sumarse': 1, 'diabólico': 1, 'retumbante': 2, 'alcé': 1, 'gritando': 1, 'fuerte': 1, 'desabridamente.': 1, '-¿Tigre?': 1, '¿Tigre?': 1, '¿Es': 2, 'tigre?': 1, '¿Bestias?': 2, 'bestia': 1, 'atemoriza?': 1, 'Mi': 1, 'mente': 1, 'retrocedía': 1, 'hasta': 3, 'antigua': 1, 'clásica': 1, 'historia': 1, 'tigres': 1, 'leído;': 1, 'traté': 2, 'recordar': 2, 'autor,': 1, 'dificultad.': 1, 'mitad': 1, 'espanto,': 1, 'recordé': 1, 'relato': 1, 'pertenecía': 1, 'Ruyard': 1, 'Kipling;': 1, 'ocurrió': 1, 'ridículo': 1, 'resultaba': 1, 'considerarle': 1, 'antiguo': 1, 'autor.': 1, 'Anhelé': 1, 'volumen': 1, 'contenía': 1, 'historia,': 1, 'comenzado': 1, 'desandar': 1, 'común': 1, 'señuelo': 1, 'contuvieron.': 1, 'Si': 1, 'podido': 1, 'resistir': 1, 'deseo': 1, 'retroceder': 1, 'concurso': 1, 'fascinación': 1, 'palmera,': 3, 'sé.': 1, 'Su': 1, 'atracción': 1, 'predominante,': 1, 'dejé': 1, 'para': 5, 'arrastrarme': 2, 'rodillas': 1, 'pendiente': 1, 'pesar': 1, 'serpientes': 1, 'pudiera': 2, 'albergar.': 1, 'Decidí': 1, 'luchar': 1, 'vida': 1, 'cordura': 1, 'amenazas': 1, 'temía': 1, 'derrota': 1, 'enloquecido': 1, 'silbido': 1, 'misteriosa': 1, 'unía': 1, 'audible': 1, 'irritante': 1, 'batir': 2, 'distantes': 1, 'rompientes.': 1, 'Con': 1, 'frecuencia,': 1, 'debía': 2, 'detenerme': 1, 'tapar': 1, 'oídos': 1, 'aliviarme,': 1, 'todo': 4, 'detestable': 2, 'sonido.': 1, 'eras,': 1, 'pareció,': 1, 'finalmente': 1, 'increíble': 1, 'reposar': 1, 'sombra': 2, 'protectora.': 1, 'ocurrieron': 1, 'serie': 1, 'incidentes': 1, 'transportaron': 1, 'opuestos': 1, 'extremos': 1, 'horror;': 1, 'sucesos': 1, 'temo': 1, 'atrevo': 1, 'buscar': 1, 'interpretación.': 1, 'Apenas': 1, 'colgante': 1, 'follaje': 1, 'brotó': 1, 'ramas': 1, 'muchacho': 1, 'belleza': 3, 'viera.': 1, 'Aunque': 1, 'sucio': 1, 'harapiento,': 1, 'poseía': 1, 'facciones': 1, 'fauno': 1, 'semidiós,': 1, 'incluso': 3, 'irradiar': 1, 'espesa': 1, 'árbol.': 1, 'Sonrió': 1, 'tendiendo': 1, 'manos,': 2, 'yo': 1, 'alzarme': 1, 'hablar,': 1, 'aire': 1, 'superior': 1, 'exquisita': 1, 'melodía': 1, 'canto;': 1, 'notas': 1, 'altas': 1, 'bajas': 1, 'tramadas': 1, 'etérea': 1, 'sublime': 1, 'armonía.': 1, 'hundido': 1, 'ya': 2, 'crepúsculo': 1, 'aureola': 1, 'mansa': 1, 'rodeando': 1, 'niño.': 1, 'dirigió': 1, '-Es': 1, 'fin.': 1, 'Han': 1, 'bajado': 1, 'estrellas': 1, 'través': 4, 'ocaso.': 1, 'está': 2, 'colmado': 1, 'corrientes': 2, 'arinurianas': 1, 'moraremos': 1, 'felices': 1, 'Teloe.': 1, 'niño': 2, 'hablaba,': 1, 'luminosidad': 1, 'frondas': 1, 'alzarse': 1, 'saludando': 1, 'dos': 1, 'seres': 1, 'supe': 2, 'debían': 1, 'parte': 1, 'maestros': 1, 'cantores': 2, 'escuchado.': 1, 'Debían': 1, 'dios': 2, 'diosa,': 1, 'mortales,': 1, 'ellos': 2, 'tomaron': 1, 'diciendo:': 1, '-Ven,': 1, 'niño,': 1, 'has': 1, 'escuchado': 1, 'voces': 1, 'bien.': 1, 'Teloe,': 1, 'Vía': 1, 'Láctea': 1, 'arinurianas,': 1, 'existen': 1, 'ciudades': 2, 'ámbar': 1, 'calcedonia.': 1, 'Y': 4, 'cúpulas': 1, 'múltiples': 1, 'facetas': 1, 'relumbran': 1, 'reflejos': 1, 'extrañas': 1, 'hermosas': 1, 'estrellas.': 2, 'Bajo': 2, 'puentes': 1, 'marfil': 1, 'Teloe': 3, 'fluyen': 1, 'ríos': 2, 'oro': 1, 'líquido': 1, 'llevando': 1, 'embarcaciones': 1, 'placer': 1, 'rumbo': 1, 'floreciente': 1, 'Cytarion': 2, 'Siete': 1, 'Soles.': 1, 'existe': 1, 'juventud,': 1, 'placer,': 1, 'ni': 1, 'escuchan': 1, 'sonidos': 1, 'risas,': 1, 'canciones': 1, 'laúd.': 1, 'Sólo': 2, 'dioses': 3, 'moran': 1, 'dorados,': 1, 'tú': 1, 'habitarás.': 1, 'escuchaba': 1, 'embelesado,': 1, 'súbitamente': 1, 'alrededores.': 1, 'resguardado': 1, 'cuerpo': 1, 'exhausto,': 1, 'considerablemente': 1, 'debajo.': 1, 'Obviamente': 1, 'flotaba': 1, 'atmósfera;': 1, 'acompañado': 1, 'extraño': 1, 'chico': 2, 'radiante': 1, 'pareja,': 1, 'creciente': 1, 'muchedumbre': 1, 'jóvenes': 1, 'doncellas': 1, 'semiluminosos': 1, 'coronados': 1, 'vides,': 1, 'cabelleras': 1, 'sueltas': 1, 'semblante': 1, 'feliz.': 1, 'Juntos': 1, 'ascendimos': 1, 'lentamente,': 1, 'alas': 1, 'fragante': 1, 'brisa': 1, 'soplara': 1, 'desde': 5, 'nebulosa': 1, 'dorada,': 1, 'susurró': 1, 'oído': 1, 'senderos': 1, 'abajo,': 2, 'esfera': 1, 'abandonar.': 1, 'mozos': 1, 'muchachas': 1, 'entonaban': 1, 'dulces': 1, 'acompañamientos': 1, 'laúdes': 1, 'envuelto': 1, 'paz': 1, 'felicidad': 1, 'profunda': 2, 'imaginado': 1, 'vida,': 1, 'intrusión': 1, 'simple': 1, 'alteró': 1, 'destino': 1, 'destrozando': 1, 'alma.': 1, 'arrebatados': 1, 'esfuerzos': 1, 'tañedores': 1, 'laúd,': 1, 'armonía': 1, 'burlesca': 1, 'demoníaca,': 1, 'atronó': 1, 'golfos': 1, 'inferiores': 1, 'maldito,': 1, 'océano.': 1, 'aquellas': 2, 'rugieron': 1, 'mensaje': 1, 'oídos,': 1, 'olvidé': 1, 'palabras': 1, 'miré': 2, 'condenado': 1, 'creía': 1, 'escapado.': 1, 'profundidades': 1, 'éter': 1, 'estigmatizada': 1, 'girando,': 2, 'irritados': 1, 'mares': 1, 'tempestuosos': 1, 'consumiendo': 2, 'salvajes': 1, 'arrasadas': 1, 'costas': 1, 'arrojando': 1, 'espuma': 1, 'tambaleantes': 1, 'torres': 1, 'desoladas.': 1, 'espantosa': 1, 'luna': 3, 'centelleaban': 1, 'visiones': 2, 'podré': 1, 'describir,': 1, 'olvidaré:': 1, 'desiertos': 2, 'barro': 1, 'cadavérico': 1, 'junglas': 1, 'ruina': 1, 'decadencia': 2, 'extendieron': 1, 'llanuras': 1, 'poblaciones': 1, 'remolinos': 1, 'espumeante': 1, 'otrora': 1, 'alzaran': 1, 'poderosos': 1, 'templos': 1, 'antepasados.': 1, 'polo': 1, 'Norte': 1, 'hervían': 1, 'ciénagas': 1, 'estrepitoso': 1, 'crecimiento': 1, 'vapores': 1, 'malsanos': 1, 'silbaban': 1, 'embestida': 1, 'inmensas': 1, 'encrespaban,': 1, 'lacerando,': 1, 'profundidades.': 1, 'desgarrado': 1, 'aviso': 1, 'cortó': 1, 'noche,': 1, 'desierto': 3, 'apareció': 1, 'humeante': 1, 'falla.': 2, 'negro': 1, 'espumeaba': 1, 'devoraba,': 1, 'cuatro': 1, 'costados': 1, 'brecha': 3, 'centro': 1, 'ampliaba': 1, 'ampliaba.': 1, 'desierto,': 1, 'furioso': 1, 'comía': 1, 'comía.': 1, 'pensé': 1, 'temeroso': 1, 'algo,': 1, 'atemorizado': 1, 'negros': 1, 'malvado': 1, 'pero,': 1, 'así,': 1, 'volverse': 1, 'atrás,': 1, 'sufrido': 1, 'demasiado': 1, 'pesadilla': 1, 'apiadarse': 1, 'ahora.': 1, 'Así,': 1, 'devoró': 1, 'precipitó': 1, 'humeante,': 1, 'cediendo': 1, 'modo': 1, 'conquistado.': 1, 'Fluyó': 1, 'nuevamente': 1, 'tierras': 2, 'sumergidas,': 1, 'desvelando': 1, 'viejo': 1, 'inmemorial': 1, 'lecho,': 1, 'goteó': 1, 'repugnante,': 1, 'revelando': 1, 'secretos': 1, 'ocultos': 1, 'años': 1, 'Tiempo': 1, 'joven': 1, 'nacido.': 1, 'Sobre': 1, 'alzaron': 1, 'recordados': 1, 'capiteles': 3, 'sepultados': 1, 'algas.': 1, 'arrojaba': 2, 'pálidos': 2, 'lirios': 1, 'muerta': 1, 'Londres,': 1, 'París': 1, 'levantaba': 1, 'húmeda': 1, 'tumba': 1, 'santificada': 1, 'polvo': 1, 'Después,': 1, 'brotaron': 1, 'monolitos': 2, 'estaban': 1, 'cubiertos': 1, 'algas': 1, 'recordados;': 1, 'terribles': 1, 'cuales': 1, 'jamás': 1, 'supo.': 1, 'retumbar': 1, 'alguno,': 1, 'ultraterreno': 1, 'bramido': 1, 'siseo': 1, 'precipitándose': 1, 'humo': 4, 'convertido': 1, 'vapor,': 1, 'ocultando': 1, 'hacía': 1, 'denso.': 1, 'Chamuscó': 1, 'rostro': 1, 'cómo': 1, 'afectaba': 1, 'compañeros': 1, 'todos': 1, 'desaparecido.': 1, 'terminó': 1, 'bruscamente': 1, 'desperté': 1, 'cama': 1, 'convalecencia.': 1, 'nube': 1, 'procedente': 1, 'golfo': 1, 'plutónico': 1, 'veló': 1, 'vista,': 1, 'firmamento': 1, 'entero': 1, 'chilló': 1, 'repentina': 1, 'agonía': 1, 'enloquecidas': 1, 'sacudía': 1, 'estremecido': 1, 'éter.': 1, 'Sucedió': 1, 'relámpago': 1, 'explosión': 1, 'delirantes;': 1, 'cegador,': 1, 'ensordecedor': 1, 'holocausto': 1, 'fuego,': 1, 'trueno': 1, 'disolvió': 1, 'pálida': 1, 'vacío.': 1, 'clareó': 1, 'contemplar,': 1, 'telón': 1, 'frías': 1, 'burlonas': 1, 'estrellas,': 1, 'moribundo': 1, 'afligidos': 1, 'planetas': 1, 'buscando': 1, 'hermana.': 1}\n"
     ]
    }
   ],
   "source": [
    "f = open ('Libros_txt_utf-8/El_Caos_Reptante.txt','r',encoding=\"utf-8\")\n",
    "data=f.read()\n",
    "palabras = data.split()\n",
    "ao='El'\n",
    "diccionario = dict()\n",
    "\n",
    "for p in palabras:\n",
    "    diccionario[p] = diccionario.get(p, 0) + 1\n",
    "\n",
    "print(diccionario)"
   ]
  }
 ],
 "metadata": {
  "interpreter": {
   "hash": "1baa965d5efe3ac65b79dfc60c0d706280b1da80fedb7760faf2759126c4f253"
  },
  "kernelspec": {
   "display_name": "Python 3.8.0 64-bit",
   "language": "python",
   "name": "python3"
  },
  "language_info": {
   "codemirror_mode": {
    "name": "ipython",
    "version": 3
   },
   "file_extension": ".py",
   "mimetype": "text/x-python",
   "name": "python",
   "nbconvert_exporter": "python",
   "pygments_lexer": "ipython3",
   "version": "3.8.0"
  },
  "orig_nbformat": 4
 },
 "nbformat": 4,
 "nbformat_minor": 2
}
